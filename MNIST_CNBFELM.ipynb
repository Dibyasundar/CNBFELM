{
 "cells": [
  {
   "cell_type": "code",
   "execution_count": 1,
   "metadata": {},
   "outputs": [
    {
     "name": "stderr",
     "output_type": "stream",
     "text": [
      "Using TensorFlow backend.\n",
      "C:\\Users\\dibya\\anaconda3\\lib\\site-packages\\tensorflow\\python\\framework\\dtypes.py:516: FutureWarning: Passing (type, 1) or '1type' as a synonym of type is deprecated; in a future version of numpy, it will be understood as (type, (1,)) / '(1,)type'.\n",
      "  _np_qint8 = np.dtype([(\"qint8\", np.int8, 1)])\n",
      "C:\\Users\\dibya\\anaconda3\\lib\\site-packages\\tensorflow\\python\\framework\\dtypes.py:517: FutureWarning: Passing (type, 1) or '1type' as a synonym of type is deprecated; in a future version of numpy, it will be understood as (type, (1,)) / '(1,)type'.\n",
      "  _np_quint8 = np.dtype([(\"quint8\", np.uint8, 1)])\n",
      "C:\\Users\\dibya\\anaconda3\\lib\\site-packages\\tensorflow\\python\\framework\\dtypes.py:518: FutureWarning: Passing (type, 1) or '1type' as a synonym of type is deprecated; in a future version of numpy, it will be understood as (type, (1,)) / '(1,)type'.\n",
      "  _np_qint16 = np.dtype([(\"qint16\", np.int16, 1)])\n",
      "C:\\Users\\dibya\\anaconda3\\lib\\site-packages\\tensorflow\\python\\framework\\dtypes.py:519: FutureWarning: Passing (type, 1) or '1type' as a synonym of type is deprecated; in a future version of numpy, it will be understood as (type, (1,)) / '(1,)type'.\n",
      "  _np_quint16 = np.dtype([(\"quint16\", np.uint16, 1)])\n",
      "C:\\Users\\dibya\\anaconda3\\lib\\site-packages\\tensorflow\\python\\framework\\dtypes.py:520: FutureWarning: Passing (type, 1) or '1type' as a synonym of type is deprecated; in a future version of numpy, it will be understood as (type, (1,)) / '(1,)type'.\n",
      "  _np_qint32 = np.dtype([(\"qint32\", np.int32, 1)])\n",
      "C:\\Users\\dibya\\anaconda3\\lib\\site-packages\\tensorflow\\python\\framework\\dtypes.py:525: FutureWarning: Passing (type, 1) or '1type' as a synonym of type is deprecated; in a future version of numpy, it will be understood as (type, (1,)) / '(1,)type'.\n",
      "  np_resource = np.dtype([(\"resource\", np.ubyte, 1)])\n",
      "C:\\Users\\dibya\\anaconda3\\lib\\site-packages\\tensorboard\\compat\\tensorflow_stub\\dtypes.py:541: FutureWarning: Passing (type, 1) or '1type' as a synonym of type is deprecated; in a future version of numpy, it will be understood as (type, (1,)) / '(1,)type'.\n",
      "  _np_qint8 = np.dtype([(\"qint8\", np.int8, 1)])\n",
      "C:\\Users\\dibya\\anaconda3\\lib\\site-packages\\tensorboard\\compat\\tensorflow_stub\\dtypes.py:542: FutureWarning: Passing (type, 1) or '1type' as a synonym of type is deprecated; in a future version of numpy, it will be understood as (type, (1,)) / '(1,)type'.\n",
      "  _np_quint8 = np.dtype([(\"quint8\", np.uint8, 1)])\n",
      "C:\\Users\\dibya\\anaconda3\\lib\\site-packages\\tensorboard\\compat\\tensorflow_stub\\dtypes.py:543: FutureWarning: Passing (type, 1) or '1type' as a synonym of type is deprecated; in a future version of numpy, it will be understood as (type, (1,)) / '(1,)type'.\n",
      "  _np_qint16 = np.dtype([(\"qint16\", np.int16, 1)])\n",
      "C:\\Users\\dibya\\anaconda3\\lib\\site-packages\\tensorboard\\compat\\tensorflow_stub\\dtypes.py:544: FutureWarning: Passing (type, 1) or '1type' as a synonym of type is deprecated; in a future version of numpy, it will be understood as (type, (1,)) / '(1,)type'.\n",
      "  _np_quint16 = np.dtype([(\"quint16\", np.uint16, 1)])\n",
      "C:\\Users\\dibya\\anaconda3\\lib\\site-packages\\tensorboard\\compat\\tensorflow_stub\\dtypes.py:545: FutureWarning: Passing (type, 1) or '1type' as a synonym of type is deprecated; in a future version of numpy, it will be understood as (type, (1,)) / '(1,)type'.\n",
      "  _np_qint32 = np.dtype([(\"qint32\", np.int32, 1)])\n",
      "C:\\Users\\dibya\\anaconda3\\lib\\site-packages\\tensorboard\\compat\\tensorflow_stub\\dtypes.py:550: FutureWarning: Passing (type, 1) or '1type' as a synonym of type is deprecated; in a future version of numpy, it will be understood as (type, (1,)) / '(1,)type'.\n",
      "  np_resource = np.dtype([(\"resource\", np.ubyte, 1)])\n"
     ]
    }
   ],
   "source": [
    "import os\n",
    "import gzip\n",
    "import shutil\n",
    "import numpy as np\n",
    "from mlxtend.data import loadlocal_mnist\n",
    "from keras.layers import Flatten, Input, Conv2D, Lambda, Reshape, Concatenate, BatchNormalization, Activation, MaxPooling2D, GlobalAveragePooling2D, Dense\n",
    "from keras import Model\n",
    "from keras.optimizers import Adam\n",
    "from sklearn.feature_extraction.image import extract_patches_2d\n",
    "from matplotlib import pyplot as plt\n",
    "from sklearn.preprocessing import OneHotEncoder"
   ]
  },
  {
   "cell_type": "code",
   "execution_count": 2,
   "metadata": {},
   "outputs": [],
   "source": [
    "data_source = \"D:/Research Datasets/Character Recognition Dataset/MNIST Digit/Train\"\n",
    "data_temp = \"D:/Temp_data/MNIST/Train\"\n",
    "data_store = \"D:/Temp_store/MNIST/Train\""
   ]
  },
  {
   "cell_type": "code",
   "execution_count": 3,
   "metadata": {},
   "outputs": [
    {
     "name": "stdout",
     "output_type": "stream",
     "text": [
      "['train-images-idx3-ubyte.gz', 'train-labels-idx1-ubyte.gz']\n"
     ]
    }
   ],
   "source": [
    "c_list = os.listdir(data_source)\n",
    "print(c_list)"
   ]
  },
  {
   "cell_type": "code",
   "execution_count": 4,
   "metadata": {},
   "outputs": [],
   "source": [
    "if os.path.isdir(data_temp):\n",
    "    shutil.rmtree(data_temp)\n",
    "    os.makedirs(data_temp)\n",
    "else:\n",
    "    os.makedirs(data_temp)"
   ]
  },
  {
   "cell_type": "code",
   "execution_count": 5,
   "metadata": {},
   "outputs": [],
   "source": [
    "if os.path.isdir(data_store):\n",
    "    shutil.rmtree(data_store)\n",
    "    os.makedirs(data_store)\n",
    "else:\n",
    "    os.makedirs(data_store)"
   ]
  },
  {
   "cell_type": "code",
   "execution_count": 6,
   "metadata": {},
   "outputs": [],
   "source": [
    "for c_l in c_list:\n",
    "    with gzip.open(data_source+'/'+c_l, 'rb') as f_in:\n",
    "        with open(data_temp+'/'+c_l[:(c_l.find('.gz'))], 'wb') as f_out:\n",
    "            shutil.copyfileobj(f_in, f_out)"
   ]
  },
  {
   "cell_type": "code",
   "execution_count": 7,
   "metadata": {},
   "outputs": [
    {
     "name": "stdout",
     "output_type": "stream",
     "text": [
      "['train-images-idx3-ubyte', 'train-labels-idx1-ubyte']\n"
     ]
    }
   ],
   "source": [
    "c_list = os.listdir(data_temp)\n",
    "print(c_list)"
   ]
  },
  {
   "cell_type": "code",
   "execution_count": 8,
   "metadata": {},
   "outputs": [],
   "source": [
    "train_image, train_label = loadlocal_mnist(images_path=data_temp+'/'+'train-images-idx3-ubyte', labels_path=data_temp+'/'+'train-labels-idx1-ubyte')"
   ]
  },
  {
   "cell_type": "code",
   "execution_count": 9,
   "metadata": {},
   "outputs": [
    {
     "name": "stdout",
     "output_type": "stream",
     "text": [
      "(60000, 28, 28, 1)\n"
     ]
    }
   ],
   "source": [
    "train_image=np.expand_dims(train_image, axis=2)\n",
    "train_image = np.reshape(train_image, (-1,28,28))\n",
    "train_image=np.expand_dims(train_image, axis=3)\n",
    "print(train_image.shape)"
   ]
  },
  {
   "cell_type": "code",
   "execution_count": 10,
   "metadata": {},
   "outputs": [
    {
     "data": {
      "image/png": "[encoded data removed]",
      "text/plain": [
       "<Figure size 432x288 with 1 Axes>"
      ]
     },
     "metadata": {
      "needs_background": "light"
     },
     "output_type": "display_data"
    }
   ],
   "source": [
    "plt.imshow(train_image[1,:,:,0],cmap='gray')\n",
    "plt.imsave(\"b_0.jpg\", train_image[1,:,:,0],cmap=\"gray\")"
   ]
  },
  {
   "cell_type": "code",
   "execution_count": 11,
   "metadata": {},
   "outputs": [],
   "source": [
    "patch_size = [5,5]\n",
    "opt = Adam()"
   ]
  },
  {
   "cell_type": "code",
   "execution_count": 12,
   "metadata": {},
   "outputs": [
    {
     "name": "stdout",
     "output_type": "stream",
     "text": [
      "WARNING:tensorflow:From C:\\Users\\dibya\\anaconda3\\lib\\site-packages\\keras\\backend\\tensorflow_backend.py:4070: The name tf.nn.max_pool is deprecated. Please use tf.nn.max_pool2d instead.\n",
      "\n"
     ]
    }
   ],
   "source": [
    "def new_model(inp_size):\n",
    "    inp = Input(shape=(inp_size[0],inp_size[1],inp_size[2]))\n",
    "    x = Conv2D(10,5,strides=(1, 1),padding=\"same\", use_bias=False,name='conv1')(inp)\n",
    "    x = Activation('sigmoid')(x)\n",
    "    x = MaxPooling2D(pool_size=(2, 2),name='MaxPool1')(x)\n",
    "    x = Conv2D(10,5,strides=(1, 1),padding=\"same\", use_bias=False,name='conv2')(x)\n",
    "    x = Activation('sigmoid')(x)\n",
    "    x = MaxPooling2D(pool_size=(2, 2),name='MaxPool2')(x)\n",
    "    x = Flatten(name='flat')(x)\n",
    "    x = Dense(20, activation='sigmoid', use_bias=False,name='Fc1')(x)\n",
    "    x = Dense(10,activation='softmax', use_bias=False,name='Fc2')(x)\n",
    "    model = Model(inputs=inp, outputs=x)\n",
    "    model.compile(loss='categorical_crossentropy', optimizer=opt, metrics=['accuracy', 'mse'])\n",
    "    return model\n",
    "\n",
    "model = new_model([28,28,1])\n",
    "w = model.get_weights()"
   ]
  },
  {
   "cell_type": "code",
   "execution_count": 13,
   "metadata": {},
   "outputs": [
    {
     "name": "stdout",
     "output_type": "stream",
     "text": [
      "Model: \"model_1\"\n",
      "_________________________________________________________________\n",
      "Layer (type)                 Output Shape              Param #   \n",
      "=================================================================\n",
      "input_1 (InputLayer)         (None, 28, 28, 1)         0         \n",
      "_________________________________________________________________\n",
      "conv1 (Conv2D)               (None, 28, 28, 10)        250       \n",
      "_________________________________________________________________\n",
      "activation_1 (Activation)    (None, 28, 28, 10)        0         \n",
      "_________________________________________________________________\n",
      "MaxPool1 (MaxPooling2D)      (None, 14, 14, 10)        0         \n",
      "_________________________________________________________________\n",
      "conv2 (Conv2D)               (None, 14, 14, 10)        2500      \n",
      "_________________________________________________________________\n",
      "activation_2 (Activation)    (None, 14, 14, 10)        0         \n",
      "_________________________________________________________________\n",
      "MaxPool2 (MaxPooling2D)      (None, 7, 7, 10)          0         \n",
      "_________________________________________________________________\n",
      "flat (Flatten)               (None, 490)               0         \n",
      "_________________________________________________________________\n",
      "Fc1 (Dense)                  (None, 20)                9800      \n",
      "_________________________________________________________________\n",
      "Fc2 (Dense)                  (None, 10)                200       \n",
      "=================================================================\n",
      "Total params: 12,750\n",
      "Trainable params: 12,750\n",
      "Non-trainable params: 0\n",
      "_________________________________________________________________\n"
     ]
    }
   ],
   "source": [
    "model.summary()"
   ]
  },
  {
   "cell_type": "code",
   "execution_count": 14,
   "metadata": {},
   "outputs": [],
   "source": [
    "def get_some_image_per_class(train_image, train_label,count):\n",
    "    c = np.zeros((1,10))[0]\n",
    "    for i in range(train_image.shape[0]):\n",
    "        if c[train_label[i]] < count:\n",
    "            if np.sum(c) == 0:\n",
    "                new_train  = np.expand_dims(train_image[i,:,:,:],axis=0)\n",
    "                new_label = np.expand_dims(train_label[i],axis=0)\n",
    "            else:\n",
    "                new_train = np.append(new_train,np.expand_dims(train_image[i,:,:,:],axis=0), axis=0)\n",
    "                new_label = np.append(new_label, np.expand_dims(train_label[i],axis=0), axis=0)\n",
    "            c[train_label[i]] = c[train_label[i]]+1\n",
    "    return new_train, new_label"
   ]
  },
  {
   "cell_type": "code",
   "execution_count": 15,
   "metadata": {},
   "outputs": [],
   "source": [
    "def patches_extract(img,patch_size):\n",
    "    patches = extract_patches_2d(img,(patch_size[0],patch_size[1]))\n",
    "    patches = np.reshape(patches,(-1,patch_size[0]*patch_size[1]*img.shape[2]))\n",
    "    patches = patches[np.var(patches,axis=1)!=0,:]\n",
    "    return patches"
   ]
  },
  {
   "cell_type": "code",
   "execution_count": 16,
   "metadata": {},
   "outputs": [],
   "source": [
    "def get_new_weights_BFELM(temp_data,temp_label,w_t):\n",
    "    out_weight = np.random.random((w_t.shape[-1],temp_label.shape[-1]))\n",
    "    H = np.matmul(temp_label,np.linalg.pinv(out_weight))\n",
    "    H = H + np.random.random(H.shape)\n",
    "    w_new = np.matmul(np.linalg.pinv(temp_data),H)\n",
    "    u, s, v = np.linalg.svd(w_new, full_matrices=True)\n",
    "    if w_new.shape[0]>w_new.shape[1]:\n",
    "        w_new = u[:,0:w_new.shape[1]]\n",
    "    else:\n",
    "        w_new = v[0:w_new.shape[0],:]\n",
    "    w_new = np.reshape(w_new,w_t.shape)\n",
    "    return w_new"
   ]
  },
  {
   "cell_type": "code",
   "execution_count": 17,
   "metadata": {},
   "outputs": [],
   "source": [
    "new_train, new_label = get_some_image_per_class(train_image, train_label,20)"
   ]
  },
  {
   "cell_type": "code",
   "execution_count": 18,
   "metadata": {},
   "outputs": [
    {
     "name": "stdout",
     "output_type": "stream",
     "text": [
      "(66249, 25)\n",
      "(66249, 10)\n"
     ]
    }
   ],
   "source": [
    "for i in range(new_train.shape[0]):\n",
    "    patches = patches_extract(new_train[i,:,:,:],patch_size)\n",
    "    if i == 0:\n",
    "        temp_data = patches\n",
    "        temp_label = np.repeat(new_label[i],patches.shape[0])\n",
    "    else:\n",
    "        temp_data = np.append(temp_data, patches, axis=0)\n",
    "        temp_label = np.append(temp_label, np.repeat(new_label[i],patches.shape[0]),axis=0)\n",
    "onehot_encoder = OneHotEncoder(sparse=False)\n",
    "temp_label = onehot_encoder.fit_transform(np.expand_dims(temp_label,axis=1))\n",
    "print(temp_data.shape)\n",
    "print(temp_label.shape)"
   ]
  },
  {
   "cell_type": "code",
   "execution_count": 19,
   "metadata": {},
   "outputs": [],
   "source": [
    "w[0] = get_new_weights_BFELM(temp_data,temp_label,w[0])\n",
    "model.set_weights(w)"
   ]
  },
  {
   "cell_type": "code",
   "execution_count": 20,
   "metadata": {},
   "outputs": [
    {
     "name": "stdout",
     "output_type": "stream",
     "text": [
      "WARNING:tensorflow:From C:\\Users\\dibya\\anaconda3\\lib\\site-packages\\keras\\backend\\tensorflow_backend.py:422: The name tf.global_variables is deprecated. Please use tf.compat.v1.global_variables instead.\n",
      "\n"
     ]
    }
   ],
   "source": [
    "intermediate_layer_model = Model(inputs=model.input, outputs=model.get_layer(\"MaxPool1\").output)\n",
    "new_train = intermediate_layer_model.predict(new_train)"
   ]
  },
  {
   "cell_type": "code",
   "execution_count": 21,
   "metadata": {},
   "outputs": [
    {
     "name": "stdout",
     "output_type": "stream",
     "text": [
      "(200, 14, 14, 10)\n"
     ]
    }
   ],
   "source": [
    "print(new_train.shape)"
   ]
  },
  {
   "cell_type": "code",
   "execution_count": 22,
   "metadata": {},
   "outputs": [
    {
     "name": "stdout",
     "output_type": "stream",
     "text": [
      "AxesSubplot(0.285345,0.536818;0.133621x0.343182)\n"
     ]
    },
    {
     "data": {
      "image/png": "[encoded data removed]",
      "text/plain": [
       "<Figure size 432x288 with 10 Axes>"
      ]
     },
     "metadata": {
      "needs_background": "light"
     },
     "output_type": "display_data"
    }
   ],
   "source": [
    "fig, axs = plt.subplots(2,5)\n",
    "print(axs[0,1])\n",
    "for i in range(2):\n",
    "    for j in range(5):\n",
    "        axs[i,j].imshow(new_train[1,:,:,2*i+j])\n",
    "        plt.imsave(\"b_0_conv_1\"+str(5*i+j)+\".jpg\", new_train[1,:,:,5*i+j])"
   ]
  },
  {
   "cell_type": "code",
   "execution_count": 23,
   "metadata": {},
   "outputs": [
    {
     "name": "stdout",
     "output_type": "stream",
     "text": [
      "(19821, 250)\n",
      "(19821, 10)\n"
     ]
    }
   ],
   "source": [
    "for i in range(new_train.shape[0]):\n",
    "    patches = patches_extract(new_train[i,:,:,:],patch_size)\n",
    "    if i == 0:\n",
    "        temp_data = patches\n",
    "        temp_label = np.repeat(new_label[i],patches.shape[0])\n",
    "    else:\n",
    "        temp_data = np.append(temp_data, patches, axis=0)\n",
    "        temp_label = np.append(temp_label, np.repeat(new_label[i],patches.shape[0]),axis=0)\n",
    "onehot_encoder = OneHotEncoder(sparse=False)\n",
    "temp_label = onehot_encoder.fit_transform(np.expand_dims(temp_label,axis=1))\n",
    "print(temp_data.shape)\n",
    "print(temp_label.shape)"
   ]
  },
  {
   "cell_type": "code",
   "execution_count": 24,
   "metadata": {},
   "outputs": [],
   "source": [
    "w[1] = get_new_weights_BFELM(temp_data,temp_label,w[1])\n",
    "model.set_weights(w)"
   ]
  },
  {
   "cell_type": "code",
   "execution_count": 25,
   "metadata": {},
   "outputs": [],
   "source": [
    "intermediate_layer_model = Model(inputs=model.input, outputs=model.get_layer(\"MaxPool2\").output)\n",
    "new_train_t = intermediate_layer_model.predict(train_image)"
   ]
  },
  {
   "cell_type": "code",
   "execution_count": 26,
   "metadata": {},
   "outputs": [
    {
     "name": "stdout",
     "output_type": "stream",
     "text": [
      "(60000, 7, 7, 10)\n"
     ]
    }
   ],
   "source": [
    "print(new_train_t.shape)"
   ]
  },
  {
   "cell_type": "code",
   "execution_count": 27,
   "metadata": {},
   "outputs": [
    {
     "name": "stdout",
     "output_type": "stream",
     "text": [
      "AxesSubplot(0.285345,0.536818;0.133621x0.343182)\n"
     ]
    },
    {
     "data": {
      "image/png": "[encoded data removed]",
      "text/plain": [
       "<Figure size 432x288 with 10 Axes>"
      ]
     },
     "metadata": {
      "needs_background": "light"
     },
     "output_type": "display_data"
    }
   ],
   "source": [
    "fig, axs = plt.subplots(2,5)\n",
    "print(axs[0,1])\n",
    "for i in range(2):\n",
    "    for j in range(5):\n",
    "        axs[i,j].imshow(new_train_t[1,:,:,2*i+j])\n",
    "        plt.imsave(\"b_0_conv_2\"+str(5*i+j)+\".jpg\", new_train_t[1,:,:,5*i+j])"
   ]
  },
  {
   "cell_type": "code",
   "execution_count": 28,
   "metadata": {},
   "outputs": [
    {
     "name": "stdout",
     "output_type": "stream",
     "text": [
      "(60000, 490)\n",
      "(60000, 10)\n"
     ]
    }
   ],
   "source": [
    "intermediate_layer_model = Model(inputs=model.input, outputs=model.get_layer(\"flat\").output)\n",
    "temp_data = intermediate_layer_model.predict(train_image)\n",
    "onehot_encoder = OneHotEncoder(sparse=False)\n",
    "temp_label = onehot_encoder.fit_transform(np.expand_dims(train_label,axis=1))\n",
    "print(temp_data.shape)\n",
    "print(temp_label.shape)"
   ]
  },
  {
   "cell_type": "code",
   "execution_count": 29,
   "metadata": {},
   "outputs": [],
   "source": [
    "w[2] = get_new_weights_BFELM(temp_data,temp_label,w[2])\n",
    "model.set_weights(w)"
   ]
  },
  {
   "cell_type": "code",
   "execution_count": 30,
   "metadata": {},
   "outputs": [
    {
     "name": "stdout",
     "output_type": "stream",
     "text": [
      "(60000, 20)\n",
      "(60000, 10)\n"
     ]
    }
   ],
   "source": [
    "intermediate_layer_model = Model(inputs=model.input, outputs=model.get_layer(\"Fc1\").output)\n",
    "temp_data = intermediate_layer_model.predict(train_image)\n",
    "onehot_encoder = OneHotEncoder(sparse=False)\n",
    "temp_label = onehot_encoder.fit_transform(np.expand_dims(train_label,axis=1))\n",
    "print(temp_data.shape)\n",
    "print(temp_label.shape)"
   ]
  },
  {
   "cell_type": "code",
   "execution_count": 31,
   "metadata": {},
   "outputs": [],
   "source": [
    "w[3]=np.matmul(np.linalg.pinv(temp_data),temp_label)"
   ]
  },
  {
   "cell_type": "code",
   "execution_count": 32,
   "metadata": {},
   "outputs": [],
   "source": [
    "model.set_weights(w)"
   ]
  },
  {
   "cell_type": "code",
   "execution_count": 33,
   "metadata": {},
   "outputs": [
    {
     "name": "stdout",
     "output_type": "stream",
     "text": [
      "60000/60000 [==============================] - 8s 134us/step\n"
     ]
    },
    {
     "data": {
      "text/plain": [
       "[1.7415810564676921, 0.9237499833106995, 0.07519658654928207]"
      ]
     },
     "execution_count": 33,
     "metadata": {},
     "output_type": "execute_result"
    }
   ],
   "source": [
    "model.evaluate(train_image,temp_label)"
   ]
  },
  {
   "cell_type": "code",
   "execution_count": 34,
   "metadata": {},
   "outputs": [],
   "source": [
    "data_source = \"D:/Research Datasets/Character Recognition Dataset/MNIST Digit/Test\"\n",
    "data_temp = \"D:/Temp_data/MNIST/Test\"\n",
    "data_store = \"D:/Temp_store/MNIST/Test\""
   ]
  },
  {
   "cell_type": "code",
   "execution_count": 35,
   "metadata": {},
   "outputs": [
    {
     "name": "stdout",
     "output_type": "stream",
     "text": [
      "['t10k-images-idx3-ubyte.gz', 't10k-labels-idx1-ubyte.gz']\n"
     ]
    }
   ],
   "source": [
    "c_list = os.listdir(data_source)\n",
    "print(c_list)"
   ]
  },
  {
   "cell_type": "code",
   "execution_count": 36,
   "metadata": {},
   "outputs": [],
   "source": [
    "if os.path.isdir(data_temp):\n",
    "    shutil.rmtree(data_temp)\n",
    "    os.makedirs(data_temp)\n",
    "else:\n",
    "    os.makedirs(data_temp)"
   ]
  },
  {
   "cell_type": "code",
   "execution_count": 37,
   "metadata": {},
   "outputs": [],
   "source": [
    "if os.path.isdir(data_store):\n",
    "    shutil.rmtree(data_store)\n",
    "    os.makedirs(data_store)\n",
    "else:\n",
    "    os.makedirs(data_store)"
   ]
  },
  {
   "cell_type": "code",
   "execution_count": 38,
   "metadata": {},
   "outputs": [],
   "source": [
    "for c_l in c_list:\n",
    "    with gzip.open(data_source+'/'+c_l, 'rb') as f_in:\n",
    "        with open(data_temp+'/'+c_l[:(c_l.find('.gz'))], 'wb') as f_out:\n",
    "            shutil.copyfileobj(f_in, f_out)"
   ]
  },
  {
   "cell_type": "code",
   "execution_count": 39,
   "metadata": {},
   "outputs": [
    {
     "name": "stdout",
     "output_type": "stream",
     "text": [
      "['t10k-images-idx3-ubyte', 't10k-labels-idx1-ubyte']\n"
     ]
    }
   ],
   "source": [
    "c_list = os.listdir(data_temp)\n",
    "print(c_list)"
   ]
  },
  {
   "cell_type": "code",
   "execution_count": 40,
   "metadata": {},
   "outputs": [],
   "source": [
    "test_image, test_label = loadlocal_mnist(images_path=data_temp+'/'+'t10k-images-idx3-ubyte', labels_path=data_temp+'/'+'t10k-labels-idx1-ubyte')"
   ]
  },
  {
   "cell_type": "code",
   "execution_count": 41,
   "metadata": {},
   "outputs": [
    {
     "name": "stdout",
     "output_type": "stream",
     "text": [
      "(10000, 28, 28, 1)\n"
     ]
    }
   ],
   "source": [
    "test_image=np.expand_dims(test_image, axis=2)\n",
    "test_image = np.reshape(test_image, (-1,28,28))\n",
    "test_image=np.expand_dims(test_image, axis=3)\n",
    "print(test_image.shape)"
   ]
  },
  {
   "cell_type": "code",
   "execution_count": 42,
   "metadata": {},
   "outputs": [],
   "source": [
    "onehot_encoder = OneHotEncoder(sparse=False)\n",
    "test_label = onehot_encoder.fit_transform(np.expand_dims(test_label,axis=1))"
   ]
  },
  {
   "cell_type": "code",
   "execution_count": 43,
   "metadata": {},
   "outputs": [],
   "source": [
    "import time"
   ]
  },
  {
   "cell_type": "code",
   "execution_count": 44,
   "metadata": {},
   "outputs": [
    {
     "name": "stdout",
     "output_type": "stream",
     "text": [
      "10000/10000 [==============================] - 1s 123us/step\n",
      "[1.7355779582977295, 0.9262999892234802, 0.07501350343227386]\n",
      "Runtime of the testing is 1.2372276782989502\n"
     ]
    }
   ],
   "source": [
    "start = time.time()\n",
    "print(model.evaluate(test_image,test_label))\n",
    "end = time.time()\n",
    "print(f\"Runtime of the testing is {end - start}\")"
   ]
  },
  {
   "cell_type": "code",
   "execution_count": 45,
   "metadata": {},
   "outputs": [
    {
     "data": {
      "text/plain": [
       "0.00011905331611633301"
      ]
     },
     "execution_count": 45,
     "metadata": {},
     "output_type": "execute_result"
    }
   ],
   "source": [
    "1.19053316116333/10000"
   ]
  },
  {
   "cell_type": "code",
   "execution_count": null,
   "metadata": {},
   "outputs": [],
   "source": []
  },
  {
   "cell_type": "code",
   "execution_count": null,
   "metadata": {},
   "outputs": [],
   "source": []
  },
  {
   "cell_type": "code",
   "execution_count": null,
   "metadata": {},
   "outputs": [],
   "source": []
  },
  {
   "cell_type": "code",
   "execution_count": null,
   "metadata": {},
   "outputs": [],
   "source": []
  },
  {
   "cell_type": "code",
   "execution_count": null,
   "metadata": {},
   "outputs": [],
   "source": []
  },
  {
   "cell_type": "code",
   "execution_count": null,
   "metadata": {},
   "outputs": [],
   "source": []
  },
  {
   "cell_type": "code",
   "execution_count": null,
   "metadata": {},
   "outputs": [],
   "source": []
  },
  {
   "cell_type": "code",
   "execution_count": null,
   "metadata": {},
   "outputs": [],
   "source": []
  },
  {
   "cell_type": "code",
   "execution_count": null,
   "metadata": {},
   "outputs": [],
   "source": []
  },
  {
   "cell_type": "code",
   "execution_count": null,
   "metadata": {},
   "outputs": [],
   "source": []
  },
  {
   "cell_type": "code",
   "execution_count": null,
   "metadata": {},
   "outputs": [],
   "source": []
  },
  {
   "cell_type": "code",
   "execution_count": null,
   "metadata": {},
   "outputs": [],
   "source": []
  },
  {
   "cell_type": "code",
   "execution_count": null,
   "metadata": {},
   "outputs": [],
   "source": []
  },
  {
   "cell_type": "code",
   "execution_count": null,
   "metadata": {},
   "outputs": [],
   "source": []
  }
 ],
 "metadata": {
  "kernelspec": {
   "display_name": "Python 3",
   "language": "python",
   "name": "python3"
  },
  "language_info": {
   "codemirror_mode": {
    "name": "ipython",
    "version": 3
   },
   "file_extension": ".py",
   "mimetype": "text/x-python",
   "name": "python",
   "nbconvert_exporter": "python",
   "pygments_lexer": "ipython3",
   "version": "3.7.6"
  }
 },
 "nbformat": 4,
 "nbformat_minor": 4
}
